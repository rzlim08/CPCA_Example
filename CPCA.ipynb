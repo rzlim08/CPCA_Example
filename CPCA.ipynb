{
 "cells": [
  {
   "cell_type": "markdown",
   "metadata": {},
   "source": [
    "## CPCA for fMRI - Matlab\n"
   ]
  },
  {
   "cell_type": "markdown",
   "metadata": {},
   "source": [
    "#### Imports and Dependencies\n",
    "First add the packages that we'll need. I'll try to use as few dependencies as possible here. The only thing we should need is spm for its reading functions (spm_vol, spm_read_vols). Later releases of matlab have built-in functions for this. Jimmy Shen's toolbox also is a good option https://www.mathworks.com/matlabcentral/fileexchange/8797-tools-for-nifti-and-analyze-image"
   ]
  },
  {
   "cell_type": "code",
   "execution_count": 1,
   "metadata": {},
   "outputs": [],
   "source": [
    "addpath(genpath('/home/cnoslab-ra/Applications/spm12'));"
   ]
  },
  {
   "cell_type": "markdown",
   "metadata": {},
   "source": [
    "#### Data\n",
    "We'll also need to the data, so make sure we have a reference to that too. "
   ]
  },
  {
   "cell_type": "code",
   "execution_count": 2,
   "metadata": {},
   "outputs": [
    {
     "name": "stdout",
     "output_type": "stream",
     "text": [
      "CPCA.ipynb\t\t     jogl.ex.27377\t       Public\n",
      "CPCA_python.ipynb\t     jupyterhub_cookie_secret  Templates\n",
      "Desktop\t\t\t     jupyterhub.sqlite\t       Untitled1.ipynb\n",
      "Documents\t\t     Music\t\t       Untitled2.ipynb\n",
      "Downloads\t\t     notebooks\t\t       Untitled.ipynb\n",
      "example_data_Single_Subject  notebook.tex\t       Videos\n",
      "examples.desktop\t     output_15_0.png\n",
      "jogl.ex.26280\t\t     Pictures\n",
      "\n"
     ]
    }
   ],
   "source": [
    "ls"
   ]
  },
  {
   "cell_type": "markdown",
   "metadata": {},
   "source": [
    "We can use the Matlab 'dir' function to read in all the images. The \\*.img string reads in all the files that end in '.img'"
   ]
  },
  {
   "cell_type": "code",
   "execution_count": 3,
   "metadata": {},
   "outputs": [
    {
     "name": "stdout",
     "output_type": "stream",
     "text": [
      "\n",
      "scans = \n",
      "\n",
      "  214×1 struct array with fields:\n",
      "\n",
      "    name\n",
      "    folder\n",
      "    date\n",
      "    bytes\n",
      "    isdir\n",
      "    datenum\n",
      "\n"
     ]
    }
   ],
   "source": [
    "data_path = [pwd filesep 'example_data_Single_Subject'  filesep 'example_data_Single_Subject'];\n",
    "image_path = [data_path filesep 's01'];\n",
    "scans = dir([image_path filesep '*.img'])"
   ]
  },
  {
   "cell_type": "markdown",
   "metadata": {},
   "source": [
    "We can see there are 214 scans for this subject. We now want to get a reference to all the images and store them in a way that matlab can read. We'll use the SPM functions 'spm_vol' and 'spm_read_vols' to read the headers and images respectively. So we will read a single scan in. "
   ]
  },
  {
   "cell_type": "code",
   "execution_count": 4,
   "metadata": {},
   "outputs": [
    {
     "name": "stdout",
     "output_type": "stream",
     "text": [
      "\n",
      "ss_hdr = \n",
      "\n",
      "  struct with fields:\n",
      "\n",
      "      fname: '/home/rzlim08/example_data_Single_Subject/example_data_Single_Subject/s01/fsnruna_F001.img'\n",
      "        dim: [40 48 34]\n",
      "         dt: [4 0]\n",
      "      pinfo: [3×1 double]\n",
      "        mat: [4×4 double]\n",
      "          n: [1 1]\n",
      "    descrip: 'spm - 3D normalized - conv (8,8,8)'\n",
      "    private: [1×1 nifti]\n",
      "\n"
     ]
    }
   ],
   "source": [
    "scan = scans(1);\n",
    "ss_path = [scan.folder filesep scan.name]; % Older versions of matlab won't have scan.folder, use image_path instead\n",
    "ss_hdr = spm_vol(ss_path)"
   ]
  },
  {
   "cell_type": "code",
   "execution_count": 5,
   "metadata": {},
   "outputs": [],
   "source": [
    "ss_img = spm_read_vols(ss_hdr);"
   ]
  },
  {
   "cell_type": "code",
   "execution_count": 6,
   "metadata": {},
   "outputs": [
    {
     "data": {
      "image/png": "[encoded data removed]"
     },
     "metadata": {},
     "output_type": "display_data"
    }
   ],
   "source": [
    "%% THIS SHOULD WORK WHEN ON A COMPUTER THAT SUPPORTS IT\n",
    "imatlab_export_fig('print-png')\n",
    "imshow(squeeze(ss_img(:,10,:)))"
   ]
  },
  {
   "cell_type": "markdown",
   "metadata": {},
   "source": [
    "Ok, so we have one image loaded in, we'll need to load all the images. "
   ]
  },
  {
   "cell_type": "code",
   "execution_count": 7,
   "metadata": {},
   "outputs": [],
   "source": [
    "path_to_scans = {};\n",
    "for i = 1:size(scans)\n",
    "    path_to_scans{end+1} = [scans(i).folder filesep scans(i).name];\n",
    "end\n",
    "% create a cell array of a path to each scan\n",
    "path_to_scans = path_to_scans';\n",
    "% read in scan headers\n",
    "scan_hdr = spm_vol(path_to_scans);"
   ]
  },
  {
   "cell_type": "markdown",
   "metadata": {},
   "source": [
    "So now we have a cell array storing the spm headers for all the images. We want to read those in and append them together to form a 2 dimensional matrix. We can use Matlab's cellfun for this."
   ]
  },
  {
   "cell_type": "code",
   "execution_count": 8,
   "metadata": {},
   "outputs": [],
   "source": [
    " read_and_reshape = @(im_hdr)(reshape(spm_read_vols(im_hdr), 1,[]));\n",
    " im_cell = cellfun(read_and_reshape, scan_hdr, 'UniformOutput', 0);\n",
    " brain_scans = cell2mat(im_cell);"
   ]
  },
  {
   "cell_type": "code",
   "execution_count": 9,
   "metadata": {},
   "outputs": [
    {
     "name": "stdout",
     "output_type": "stream",
     "text": [
      "\n",
      "ans =\n",
      "\n",
      "         214       65280\n",
      "\n"
     ]
    }
   ],
   "source": [
    "size(brain_scans)"
   ]
  },
  {
   "cell_type": "markdown",
   "metadata": {},
   "source": [
    "## Masking "
   ]
  },
  {
   "cell_type": "markdown",
   "metadata": {},
   "source": [
    "There are infinite ways of creating an image mask. An mask is an image of zeros and ones that denote the areas to be analyzed. We will use a precreated mask for the purpose of this analysis, but we can easily make our own masking function. For example, we can create a mask by thresholding the scans at the global mean. "
   ]
  },
  {
   "cell_type": "code",
   "execution_count": 10,
   "metadata": {},
   "outputs": [
    {
     "name": "stdout",
     "output_type": "stream",
     "text": [
      "\n",
      "global_mean =\n",
      "\n",
      "   5.8343e+03\n",
      "\n"
     ]
    }
   ],
   "source": [
    "global_mean = mean(mean(brain_scans))\n",
    "thresholded = brain_scans>global_mean;"
   ]
  },
  {
   "cell_type": "code",
   "execution_count": 11,
   "metadata": {},
   "outputs": [],
   "source": [
    "% for each voxel, if every scan is above the global mean, include the voxel in the analysis\n",
    "mask = floor(sum(thresholded)/size(brain_scans,1)); "
   ]
  },
  {
   "cell_type": "code",
   "execution_count": 12,
   "metadata": {},
   "outputs": [
    {
     "name": "stdout",
     "output_type": "stream",
     "text": [
      "\n",
      "ans =\n",
      "\n",
      "         214       29401\n",
      "\n"
     ]
    }
   ],
   "source": [
    "% find where all scans are one, and take those out of the brain scans\n",
    "masked_im = brain_scans(:, find(mask));\n",
    "size(masked_im)"
   ]
  },
  {
   "cell_type": "markdown",
   "metadata": {},
   "source": [
    "For the purposes of this workshop, we'll use a precreated mask."
   ]
  },
  {
   "cell_type": "code",
   "execution_count": 13,
   "metadata": {},
   "outputs": [
    {
     "name": "stdout",
     "output_type": "stream",
     "text": [
      "Error using eval\n",
      "Undefined function or variable 'subject_path'.\n"
     ]
    }
   ],
   "source": [
    "% read in and flatten mask\n",
    "mask = read_and_reshape(spm_vol([subject_path filesep 'mask.img']));"
   ]
  },
  {
   "cell_type": "markdown",
   "metadata": {},
   "source": [
    "To get our data matrix, we will select only the voxels that we've included in our analysis. We call our data matrix Z. "
   ]
  },
  {
   "cell_type": "code",
   "execution_count": 14,
   "metadata": {},
   "outputs": [
    {
     "name": "stdout",
     "output_type": "stream",
     "text": [
      "\n",
      "ans =\n",
      "\n",
      "         214       29401\n",
      "\n"
     ]
    }
   ],
   "source": [
    "Z = brain_scans(:, find(mask));\n",
    "size(Z)"
   ]
  },
  {
   "cell_type": "markdown",
   "metadata": {},
   "source": [
    "We will want to standardize this matrix. PCA should be mean centered at the very least to return meaningful results. "
   ]
  },
  {
   "cell_type": "code",
   "execution_count": 15,
   "metadata": {},
   "outputs": [],
   "source": [
    "Z = zscore(Z, 1);"
   ]
  },
  {
   "cell_type": "code",
   "execution_count": 16,
   "metadata": {},
   "outputs": [
    {
     "name": "stdout",
     "output_type": "stream",
     "text": [
      "\n",
      "ans =\n",
      "\n",
      "  logical\n",
      "\n",
      "   1\n",
      "\n",
      "\n",
      "ans =\n",
      "\n",
      "  logical\n",
      "\n",
      "   1\n",
      "\n"
     ]
    }
   ],
   "source": [
    "all(abs(mean(Z))<0.01)\n",
    "all(abs(std(Z)-1)<0.01)"
   ]
  },
  {
   "cell_type": "markdown",
   "metadata": {},
   "source": [
    "This gives us a standardized data matrix. We will now create a design matrix to represent the timing information"
   ]
  },
  {
   "cell_type": "markdown",
   "metadata": {},
   "source": [
    "## Creating the Design Matrix (G Matrix)\n",
    "\n",
    "Since we want to get the neural responses to the task, we want to constain our analysis to the scans where we expect to see these responses. We create our design matrix by inserting ones into the places where we expect to see signals. This is a similar procedure to that used in SPM's first level analysis. "
   ]
  },
  {
   "cell_type": "code",
   "execution_count": 17,
   "metadata": {},
   "outputs": [],
   "source": [
    "Letters2=[55.269 79.074 89.123 118.569 123.266 138.011 163.450 179.190 189.245];\n",
    "Letters4=[5.025 10.383 20.765 69.681 74.377 108.515 132.986 158.425 199.293];\n",
    "Letters6=[15.740 25.789 40.540 143.369 148.727 168.808 173.832 183.887 194.269];\n",
    "Letters8=[30.486 35.844 45.237 59.960 64.656 84.098 94.481 113.211 128.290];\n",
    "onsets = {Letters2; Letters4; Letters6; Letters8};\n",
    "onsets = cellfun(@ceil, onsets, 'UniformOutput', 0);"
   ]
  },
  {
   "cell_type": "code",
   "execution_count": 18,
   "metadata": {},
   "outputs": [
    {
     "name": "stdout",
     "output_type": "stream",
     "text": [
      "\n",
      "conditions =\n",
      "\n",
      "     4\n",
      "\n",
      "\n",
      "bins =\n",
      "\n",
      "     8\n",
      "\n"
     ]
    }
   ],
   "source": [
    "conditions = size(onsets,1)\n",
    "bins = 8\n",
    "G = zeros(size(Z,1), bins*conditions);\n",
    "% For each condition\n",
    "for j = 1:conditions\n",
    "    cond_onsets = onsets{j};\n",
    "    % For each onset\n",
    "    for i = 1:size(cond_onsets,2)\n",
    "        % Take the scan at the time of the onset, and the next 7 scans after, insert ones into these scans\n",
    "        G(cond_onsets(i):cond_onsets(i)+bins-1, ...\n",
    "            (j-1)*bins+1:(j-1)*bins+bins) = ...\n",
    "            G(cond_onsets(i):cond_onsets(i)+bins-1, ...\n",
    "            (j-1)*bins+1:(j-1)*bins+bins)|...\n",
    "            eye(bins);\n",
    "    end\n",
    "end"
   ]
  },
  {
   "cell_type": "markdown",
   "metadata": {},
   "source": [
    "Now we have a design matrix for each of the different conditions and onsets. Finally, we want to standardize the G matrix. "
   ]
  },
  {
   "cell_type": "code",
   "execution_count": 19,
   "metadata": {},
   "outputs": [],
   "source": [
    "G = zscore(G,1);"
   ]
  },
  {
   "cell_type": "markdown",
   "metadata": {},
   "source": [
    "## Regression\n",
    "\n",
    "We will then regress the Z matrix onto the G matrix. This will give use the betas for the regression. "
   ]
  },
  {
   "cell_type": "code",
   "execution_count": 20,
   "metadata": {},
   "outputs": [],
   "source": [
    "% This uses Matlab's mldivide function. \n",
    "% We can also use the normal equations, which seem to work faster in Matlab 2016a\n",
    "C = G\\Z;  "
   ]
  },
  {
   "cell_type": "markdown",
   "metadata": {},
   "source": [
    "## SVD/PCA"
   ]
  },
  {
   "cell_type": "markdown",
   "metadata": {},
   "source": [
    "Now we can do the singular value decomposition (SVD). SVD is a matrix decomposition technique that will yield equivalent results to PCA. Normally, with multiple participants we'd have to append all the matrices from each participant together, but here we only have a single participant. "
   ]
  },
  {
   "cell_type": "code",
   "execution_count": 30,
   "metadata": {},
   "outputs": [
    {
     "name": "stdout",
     "output_type": "stream",
     "text": [
      "rank of GC = 32\n"
     ]
    }
   ],
   "source": [
    "disp(['rank of GC = ' num2str(rank(G*C))]) % The rank of GC is equal to the rank of G. Thus we can see this as projecting Z onto a lower dimensional space\n",
    "[U D V] = svds(G*C, 3);\n",
    "% Create predictor weights by regressing the eigenvectors onto the design matrix and multiplying by the sqrt of \n",
    "% the number of scans\n",
    "P = (G\\U)*sqrt(size(G,1));"
   ]
  },
  {
   "cell_type": "markdown",
   "metadata": {},
   "source": [
    "Now we can make very disappointing plots of the predictor weights, since we only have one participant. "
   ]
  },
  {
   "cell_type": "code",
   "execution_count": 31,
   "metadata": {},
   "outputs": [
    {
     "name": "stdout",
     "output_type": "stream",
     "text": [
      "\n",
      "P =\n",
      "\n",
      "    0.0952    0.2597   -0.0506\n",
      "    0.0502    0.1493    0.0832\n",
      "   -0.1067   -0.0741    0.2297\n",
      "   -0.1459   -0.2907    0.2554\n",
      "   -0.1487   -0.1672    0.3031\n",
      "   -0.2331   -0.0195    0.3435\n",
      "   -0.3074   -0.1820    0.3544\n",
      "   -0.2698   -0.1039    0.2721\n",
      "    0.1963    0.2641   -0.0723\n",
      "    0.2168    0.2275   -0.0201\n",
      "    0.1621    0.1318    0.1160\n",
      "    0.0763   -0.0903    0.2318\n",
      "    0.1040   -0.0659    0.2629\n",
      "    0.0986    0.0838    0.1786\n",
      "    0.0704    0.0238    0.1524\n",
      "    0.0500   -0.0421    0.1327\n",
      "    0.1023    0.2926    0.0345\n",
      "    0.1588    0.2977   -0.0132\n",
      "    0.1707    0.3842    0.2666\n",
      "    0.0127    0.1767    0.6210\n",
      "   -0.0598    0.0342    0.5600\n",
      "   -0.1584    0.0853    0.4625\n",
      "   -0.2660   -0.1712    0.3911\n",
      "   -0.2976   -0.1994    0.2854\n",
      "    0.4244   -0.0030   -0.1088\n",
      "    0.5143    0.1670   -0.0795\n",
      "    0.5343    0.2082    0.2763\n",
      "    0.4138   -0.0016    0.6428\n",
      "    0.3112   -0.1809    0.5572\n",
      "    0.1801   -0.2562    0.3652\n",
      "    0.0698   -0.4990    0.2384\n",
      "    0.0500   -0.4986    0.1258\n",
      "\n"
     ]
    }
   ],
   "source": [
    "P"
   ]
  },
  {
   "cell_type": "markdown",
   "metadata": {},
   "source": [
    "## Extras"
   ]
  },
  {
   "cell_type": "markdown",
   "metadata": {},
   "source": [
    "Exploring the Impact of Analysis Software on Task fMRI Results\n",
    "\n",
    " https://doi.org/10.1101/285585"
   ]
  },
  {
   "cell_type": "code",
   "execution_count": null,
   "metadata": {},
   "outputs": [],
   "source": []
  }
 ],
 "metadata": {
  "kernelspec": {
   "display_name": "MATLAB",
   "language": "matlab",
   "name": "imatlab"
  },
  "language_info": {
   "codemirror_mode": "octave",
   "file_extension": ".m",
   "mimetype": "text/x-matlab",
   "name": "matlab",
   "nbconvert_exporter": "imatlab._exporter.MatlabExporter",
   "pygments_lexer": "matlab",
   "version": "9.2.0.556344 (R2017a)"
  }
 },
 "nbformat": 4,
 "nbformat_minor": 2
}
