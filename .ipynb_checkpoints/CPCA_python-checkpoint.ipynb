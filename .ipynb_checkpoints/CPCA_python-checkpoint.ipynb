{
 "cells": [
  {
   "cell_type": "markdown",
   "metadata": {},
   "source": [
    "## CPCA for fMRI - Python\n"
   ]
  },
  {
   "cell_type": "markdown",
   "metadata": {},
   "source": [
    "#### Imports and Dependencies\n",
    "First add the packages that we'll need. I'll try to use as few dependencies as possible here. We'll need to install nipy, numpy, matplotlib, and scipy if we don't already have them"
   ]
  },
  {
   "cell_type": "code",
   "execution_count": 1,
   "metadata": {},
   "outputs": [],
   "source": [
    "# install nipy \n",
    "# pip3 install --user nipy\n",
    "\n",
    "import nipy \n",
    "import numpy as np\n",
    "import os\n",
    "import glob\n",
    "import scipy.stats as st\n",
    "import matplotlib.pyplot as plt"
   ]
  },
  {
   "cell_type": "markdown",
   "metadata": {},
   "source": [
    "#### Data\n",
    "We'll also need to the data, so make sure we have a reference to that too. This code will change depnding on where you saved the single subject example data. "
   ]
  },
  {
   "cell_type": "code",
   "execution_count": 2,
   "metadata": {},
   "outputs": [],
   "source": [
    "data_path = os.path.abspath(os.path.join(os.getcwd(), 'example_data_Single_Subject', 'example_data_Single_Subject'))\n",
    "subject_path = os.path.abspath(os.path.join(data_path, 's01'))"
   ]
  },
  {
   "cell_type": "code",
   "execution_count": 3,
   "metadata": {},
   "outputs": [
    {
     "data": {
      "text/plain": [
       "['condition_names.txt',\n",
       " 'shapes.mat',\n",
       " 'mask.hdr',\n",
       " 'mask.img',\n",
       " 'timing_onsets.m',\n",
       " 's01']"
      ]
     },
     "execution_count": 3,
     "metadata": {},
     "output_type": "execute_result"
    }
   ],
   "source": [
    "os.listdir(data_path)"
   ]
  },
  {
   "cell_type": "code",
   "execution_count": 4,
   "metadata": {},
   "outputs": [
    {
     "data": {
      "text/plain": [
       "['fsnruna_F088.img',\n",
       " 'fsnruna_F038.hdr',\n",
       " 'fsnruna_F192.img',\n",
       " 'fsnruna_F104.img',\n",
       " 'fsnruna_F081.img',\n",
       " 'fsnruna_F011.img',\n",
       " 'fsnruna_F054.hdr',\n",
       " 'fsnruna_F042.img',\n",
       " 'fsnruna_F130.img',\n",
       " 'fsnruna_F085.hdr',\n",
       " 'fsnruna_F164.img',\n",
       " 'fsnruna_F079.hdr',\n",
       " 'fsnruna_F140.img',\n",
       " 'fsnruna_F098.hdr',\n",
       " 'fsnruna_F078.hdr',\n",
       " 'fsnruna_F048.hdr',\n",
       " 'fsnruna_F078.img',\n",
       " 'fsnruna_F053.hdr',\n",
       " 'fsnruna_F136.hdr',\n",
       " 'fsnruna_F046.img',\n",
       " 'fsnruna_F184.hdr',\n",
       " 'fsnruna_F035.img',\n",
       " 'fsnruna_F170.img',\n",
       " 'fsnruna_F072.hdr',\n",
       " 'fsnruna_F073.hdr',\n",
       " 'fsnruna_F167.img',\n",
       " 'fsnruna_F096.img',\n",
       " 'fsnruna_F027.img',\n",
       " 'fsnruna_F115.hdr',\n",
       " 'fsnruna_F079.img',\n",
       " 'fsnruna_F148.img',\n",
       " 'fsnruna_F095.img',\n",
       " 'fsnruna_F110.hdr',\n",
       " 'fsnruna_F132.hdr',\n",
       " 'fsnruna_F203.hdr',\n",
       " 'fsnruna_F051.hdr',\n",
       " 'fsnruna_F144.img',\n",
       " 'fsnruna_F004.hdr',\n",
       " 'fsnruna_F186.hdr',\n",
       " 'fsnruna_F188.hdr',\n",
       " 'fsnruna_F133.img',\n",
       " 'fsnruna_F059.hdr',\n",
       " 'fsnruna_F175.img',\n",
       " 'fsnruna_F010.hdr',\n",
       " 'fsnruna_F138.hdr',\n",
       " 'fsnruna_F084.img',\n",
       " 'fsnruna_F193.img',\n",
       " 'fsnruna_F015.img',\n",
       " 'fsnruna_F154.hdr',\n",
       " 'fsnruna_F166.img',\n",
       " 'fsnruna_F201.hdr',\n",
       " 'fsnruna_F161.img',\n",
       " 'fsnruna_F062.hdr',\n",
       " 'fsnruna_F094.hdr',\n",
       " 'fsnruna_F125.img',\n",
       " 'fsnruna_F049.img',\n",
       " 'fsnruna_F106.img',\n",
       " 'fsnruna_F070.img',\n",
       " 'fsnruna_F155.hdr',\n",
       " 'fsnruna_F108.hdr',\n",
       " 'fsnruna_F126.hdr',\n",
       " 'fsnruna_F066.hdr',\n",
       " 'fsnruna_F166.hdr',\n",
       " 'fsnruna_F047.img',\n",
       " 'fsnruna_F092.hdr',\n",
       " 'fsnruna_F099.img',\n",
       " 'fsnruna_F093.img',\n",
       " 'fsnruna_F170.hdr',\n",
       " 'fsnruna_F051.img',\n",
       " 'fsnruna_F113.hdr',\n",
       " 'fsnruna_F039.img',\n",
       " 'fsnruna_F002.hdr',\n",
       " 'fsnruna_F064.img',\n",
       " 'fsnruna_F103.img',\n",
       " 'fsnruna_F082.img',\n",
       " 'fsnruna_F099.hdr',\n",
       " 'fsnruna_F142.hdr',\n",
       " 'fsnruna_F012.img',\n",
       " 'fsnruna_F174.img',\n",
       " 'fsnruna_F177.img',\n",
       " 'fsnruna_F196.hdr',\n",
       " 'fsnruna_F105.hdr',\n",
       " 'fsnruna_F117.hdr',\n",
       " 'fsnruna_F169.hdr',\n",
       " 'fsnruna_F011.hdr',\n",
       " 'fsnruna_F067.img',\n",
       " 'fsnruna_F125.hdr',\n",
       " 'fsnruna_F118.hdr',\n",
       " 'fsnruna_F102.hdr',\n",
       " 'fsnruna_F169.img',\n",
       " 'fsnruna_F023.img',\n",
       " 'fsnruna_F204.img',\n",
       " 'fsnruna_F187.hdr',\n",
       " 'fsnruna_F157.hdr',\n",
       " 'fsnruna_F101.hdr',\n",
       " 'fsnruna_F076.hdr',\n",
       " 'fsnruna_F068.img',\n",
       " 'fsnruna_F190.img',\n",
       " 'fsnruna_F114.img',\n",
       " 'fsnruna_F198.img',\n",
       " 'fsnruna_F117.img',\n",
       " 'fsnruna_F179.hdr',\n",
       " 'fsnruna_F121.img',\n",
       " 'fsnruna_F003.img',\n",
       " 'fsnruna_F114.hdr',\n",
       " 'fsnruna_F181.hdr',\n",
       " 'fsnruna_F075.hdr',\n",
       " 'fsnruna_F143.img',\n",
       " 'fsnruna_F134.img',\n",
       " 'fsnruna_F212.hdr',\n",
       " 'fsnruna_F109.img',\n",
       " 'fsnruna_F005.img',\n",
       " 'fsnruna_F075.img',\n",
       " 'fsnruna_F167.hdr',\n",
       " 'fsnruna_F087.img',\n",
       " 'fsnruna_F021.hdr',\n",
       " 'fsnruna_F065.hdr',\n",
       " 'fsnruna_F027.hdr',\n",
       " 'fsnruna_F200.hdr',\n",
       " 'fsnruna_F104.hdr',\n",
       " 'fsnruna_F065.img',\n",
       " 'fsnruna_F112.img',\n",
       " 'fsnruna_F126.img',\n",
       " 'fsnruna_F150.img',\n",
       " 'fsnruna_F043.img',\n",
       " 'fsnruna_F143.hdr',\n",
       " 'fsnruna_F022.hdr',\n",
       " 'fsnruna_F090.img',\n",
       " 'fsnruna_F211.hdr',\n",
       " 'fsnruna_F152.img',\n",
       " 'fsnruna_F145.hdr',\n",
       " 'fsnruna_F112.hdr',\n",
       " 'fsnruna_F183.img',\n",
       " 'fsnruna_F210.img',\n",
       " 'fsnruna_F076.img',\n",
       " 'fsnruna_F151.img',\n",
       " 'fsnruna_F171.hdr',\n",
       " 'fsnruna_F009.hdr',\n",
       " 'fsnruna_F182.hdr',\n",
       " 'fsnruna_F206.hdr',\n",
       " 'fsnruna_F106.hdr',\n",
       " 'fsnruna_F083.hdr',\n",
       " 'fsnruna_F176.img',\n",
       " 'fsnruna_F020.img',\n",
       " 'fsnruna_F017.img',\n",
       " 'fsnruna_F122.hdr',\n",
       " 'fsnruna_F185.hdr',\n",
       " 'fsnruna_F083.img',\n",
       " 'fsnruna_F200.img',\n",
       " 'fsnruna_F135.img',\n",
       " 'fsnruna_F178.img',\n",
       " 'fsnruna_F018.hdr',\n",
       " 'fsnruna_F095.hdr',\n",
       " 'fsnruna_F140.hdr',\n",
       " 'fsnruna_F046.hdr',\n",
       " 'fsnruna_F116.hdr',\n",
       " 'fsnruna_F058.img',\n",
       " 'fsnruna_F057.img',\n",
       " 'fsnruna_F173.img',\n",
       " 'fsnruna_F147.img',\n",
       " 'fsnruna_F172.img',\n",
       " 'fsnruna_F084.hdr',\n",
       " 'fsnruna_F204.hdr',\n",
       " 'fsnruna_F080.hdr',\n",
       " 'fsnruna_F128.hdr',\n",
       " 'fsnruna_F213.hdr',\n",
       " 'fsnruna_F030.hdr',\n",
       " 'fsnruna_F153.hdr',\n",
       " 'fsnruna_F109.hdr',\n",
       " 'fsnruna_F139.hdr',\n",
       " 'fsnruna_F088.hdr',\n",
       " 'fsnruna_F042.hdr',\n",
       " 'fsnruna_F164.hdr',\n",
       " 'fsnruna_F134.hdr',\n",
       " 'fsnruna_F185.img',\n",
       " 'fsnruna_F192.hdr',\n",
       " 'fsnruna_F034.img',\n",
       " 'fsnruna_F189.hdr',\n",
       " 'fsnruna_F056.hdr',\n",
       " 'fsnruna_F074.hdr',\n",
       " 'fsnruna_F032.hdr',\n",
       " 'fsnruna_F214.hdr',\n",
       " 'fsnruna_F026.hdr',\n",
       " 'fsnruna_F096.hdr',\n",
       " 'fsnruna_F171.img',\n",
       " 'fsnruna_F070.hdr',\n",
       " 'fsnruna_F071.img',\n",
       " 'fsnruna_F077.hdr',\n",
       " 'fsnruna_F031.hdr',\n",
       " 'fsnruna_F135.hdr',\n",
       " 'fsnruna_F153.img',\n",
       " 'fsnruna_F158.hdr',\n",
       " 'fsnruna_F057.hdr',\n",
       " 'fsnruna_F156.hdr',\n",
       " 'fsnruna_F056.img',\n",
       " 'fsnruna_F113.img',\n",
       " 'fsnruna_F098.img',\n",
       " 'fsnruna_F139.img',\n",
       " 'fsnruna_F198.hdr',\n",
       " 'fsnruna_F110.img',\n",
       " 'fsnruna_F005.hdr',\n",
       " 'fsnruna_F123.hdr',\n",
       " 'fsnruna_F052.hdr',\n",
       " 'fsnruna_F018.img',\n",
       " 'fsnruna_F043.hdr',\n",
       " 'fsnruna_F031.img',\n",
       " 'fsnruna_F100.hdr',\n",
       " 'fsnruna_F122.img',\n",
       " 'fsnruna_F174.hdr',\n",
       " 'fsnruna_F055.hdr',\n",
       " 'fsnruna_F191.img',\n",
       " 'fsnruna_F182.img',\n",
       " 'fsnruna_F066.img',\n",
       " 'fsnruna_F128.img',\n",
       " 'fsnruna_F067.hdr',\n",
       " 'fsnruna_F041.hdr',\n",
       " 'fsnruna_F060.hdr',\n",
       " 'fsnruna_F039.hdr',\n",
       " 'fsnruna_F202.hdr',\n",
       " 'fsnruna_F213.img',\n",
       " 'fsnruna_F091.img',\n",
       " 'fsnruna_F025.hdr',\n",
       " 'fsnruna_F006.hdr',\n",
       " 'fsnruna_F072.img',\n",
       " 'fsnruna_F168.hdr',\n",
       " 'fsnruna_F207.hdr',\n",
       " 'fsnruna_F180.hdr',\n",
       " 'fsnruna_F014.hdr',\n",
       " 'fsnruna_F016.img',\n",
       " 'fsnruna_F060.img',\n",
       " 'fsnruna_F160.img',\n",
       " 'fsnruna_F049.hdr',\n",
       " 'fsnruna_F184.img',\n",
       " 'fsnruna_F002.img',\n",
       " 'fsnruna_F188.img',\n",
       " 'fsnruna_F001.img',\n",
       " 'fsnruna_F107.hdr',\n",
       " 'fsnruna_F118.img',\n",
       " 'fsnruna_F019.hdr',\n",
       " 'fsnruna_F008.hdr',\n",
       " 'fsnruna_F048.img',\n",
       " 'fsnruna_F092.img',\n",
       " 'fsnruna_F115.img',\n",
       " 'fsnruna_F197.img',\n",
       " 'fsnruna_F028.img',\n",
       " 'fsnruna_F055.img',\n",
       " 'fsnruna_F068.hdr',\n",
       " 'fsnruna_F165.hdr',\n",
       " 'fsnruna_F007.hdr',\n",
       " 'fsnruna_F156.img',\n",
       " 'fsnruna_F026.img',\n",
       " 'fsnruna_F178.hdr',\n",
       " 'fsnruna_F210.hdr',\n",
       " 'fsnruna_F036.img',\n",
       " 'fsnruna_F037.img',\n",
       " 'fsnruna_F161.hdr',\n",
       " 'fsnruna_F129.hdr',\n",
       " 'fsnruna_F146.hdr',\n",
       " 'fsnruna_F044.img',\n",
       " 'fsnruna_F154.img',\n",
       " 'fsnruna_F187.img',\n",
       " 'fsnruna_F037.hdr',\n",
       " 'fsnruna_F173.hdr',\n",
       " 'fsnruna_F033.img',\n",
       " 'fsnruna_F162.hdr',\n",
       " 'fsnruna_F063.hdr',\n",
       " 'fsnruna_F186.img',\n",
       " 'fsnruna_F013.img',\n",
       " 'fsnruna_F197.hdr',\n",
       " 'fsnruna_F014.img',\n",
       " 'fsnruna_F028.hdr',\n",
       " 'fsnruna_F087.hdr',\n",
       " 'fsnruna_F058.hdr',\n",
       " 'fsnruna_F052.img',\n",
       " 'fsnruna_F019.img',\n",
       " 'fsnruna_F163.img',\n",
       " 'fsnruna_F074.img',\n",
       " 'fsnruna_F209.img',\n",
       " 'fsnruna_F073.img',\n",
       " 'fsnruna_F168.img',\n",
       " 'fsnruna_F189.img',\n",
       " 'fsnruna_F004.img',\n",
       " 'fsnruna_F050.hdr',\n",
       " 'fsnruna_F024.img',\n",
       " 'fsnruna_F208.hdr',\n",
       " 'fsnruna_F147.hdr',\n",
       " 'fsnruna_F141.hdr',\n",
       " 'fsnruna_F116.img',\n",
       " 'fsnruna_F013.hdr',\n",
       " 'fsnruna_F047.hdr',\n",
       " 'fsnruna_F023.hdr',\n",
       " 'fsnruna_F008.img',\n",
       " 'fsnruna_F105.img',\n",
       " 'fsnruna_F029.img',\n",
       " 'fsnruna_F022.img',\n",
       " 'fsnruna_F007.img',\n",
       " 'fsnruna_F206.img',\n",
       " 'fsnruna_F131.hdr',\n",
       " 'fsnruna_F089.hdr',\n",
       " 'fsnruna_F152.hdr',\n",
       " 'fsnruna_F130.hdr',\n",
       " 'fsnruna_F149.img',\n",
       " 'fsnruna_F193.hdr',\n",
       " 'fsnruna_F165.img',\n",
       " 'fsnruna_F054.img',\n",
       " 'fsnruna_F081.hdr',\n",
       " 'fsnruna_F195.img',\n",
       " 'fsnruna_F025.img',\n",
       " 'fsnruna_F129.img',\n",
       " 'fsnruna_F199.hdr',\n",
       " 'fsnruna_F040.img',\n",
       " 'fsnruna_F202.img',\n",
       " 'fsnruna_F001.hdr',\n",
       " 'fsnruna_F155.img',\n",
       " 'fsnruna_F137.hdr',\n",
       " 'fsnruna_F119.hdr',\n",
       " 'fsnruna_F183.hdr',\n",
       " 'fsnruna_F086.img',\n",
       " 'fsnruna_F111.img',\n",
       " 'fsnruna_F146.img',\n",
       " 'fsnruna_F021.img',\n",
       " 'fsnruna_F136.img',\n",
       " 'fsnruna_F144.hdr',\n",
       " 'fsnruna_F064.hdr',\n",
       " 'fsnruna_F024.hdr',\n",
       " 'fsnruna_F121.hdr',\n",
       " 'fsnruna_F127.img',\n",
       " 'fsnruna_F061.hdr',\n",
       " 'fsnruna_F201.img',\n",
       " 'fsnruna_F141.img',\n",
       " 'fsnruna_F045.hdr',\n",
       " 'fsnruna_F124.hdr',\n",
       " 'fsnruna_F181.img',\n",
       " 'fsnruna_F131.img',\n",
       " 'fsnruna_F194.hdr',\n",
       " 'fsnruna_F086.hdr',\n",
       " 'fsnruna_F061.img',\n",
       " 'fsnruna_F177.hdr',\n",
       " 'fsnruna_F137.img',\n",
       " 'fsnruna_F150.hdr',\n",
       " 'fsnruna_F142.img',\n",
       " 'fsnruna_F158.img',\n",
       " 'fsnruna_F010.img',\n",
       " 'fsnruna_F102.img',\n",
       " 'fsnruna_F203.img',\n",
       " 'fsnruna_F163.hdr',\n",
       " 'fsnruna_F208.img',\n",
       " 'fsnruna_F175.hdr',\n",
       " 'fsnruna_F053.img',\n",
       " 'fsnruna_F089.img',\n",
       " 'fsnruna_F085.img',\n",
       " 'fsnruna_F195.hdr',\n",
       " 'fsnruna_F069.img',\n",
       " 'fsnruna_F199.img',\n",
       " 'fsnruna_F009.img',\n",
       " 'fsnruna_F101.img',\n",
       " 'fsnruna_F069.hdr',\n",
       " 'fsnruna_F212.img',\n",
       " 'fsnruna_F093.hdr',\n",
       " 'fsnruna_F138.img',\n",
       " 'fsnruna_F194.img',\n",
       " 'fsnruna_F214.img',\n",
       " 'fsnruna_F148.hdr',\n",
       " 'fsnruna_F123.img',\n",
       " 'fsnruna_F159.hdr',\n",
       " 'fsnruna_F111.hdr',\n",
       " 'fsnruna_F044.hdr',\n",
       " 'fsnruna_F029.hdr',\n",
       " 'fsnruna_F100.img',\n",
       " 'fsnruna_F160.hdr',\n",
       " 'fsnruna_F119.img',\n",
       " 'fsnruna_F063.img',\n",
       " 'fsnruna_F080.img',\n",
       " 'fsnruna_F162.img',\n",
       " 'fsnruna_F017.hdr',\n",
       " 'fsnruna_F034.hdr',\n",
       " 'fsnruna_F120.hdr',\n",
       " 'fsnruna_F082.hdr',\n",
       " 'fsnruna_F077.img',\n",
       " 'fsnruna_F211.img',\n",
       " 'fsnruna_F090.hdr',\n",
       " 'fsnruna_F133.hdr',\n",
       " 'fsnruna_F071.hdr',\n",
       " 'fsnruna_F020.hdr',\n",
       " 'fsnruna_F132.img',\n",
       " 'fsnruna_F205.hdr',\n",
       " 'fsnruna_F012.hdr',\n",
       " 'fsnruna_F036.hdr',\n",
       " 'fsnruna_F030.img',\n",
       " 'fsnruna_F094.img',\n",
       " 'fsnruna_F209.hdr',\n",
       " 'fsnruna_F035.hdr',\n",
       " 'fsnruna_F103.hdr',\n",
       " 'fsnruna_F145.img',\n",
       " 'fsnruna_F097.hdr',\n",
       " 'fsnruna_F016.hdr',\n",
       " 'fsnruna_F038.img',\n",
       " 'fsnruna_F033.hdr',\n",
       " 'fsnruna_F015.hdr',\n",
       " 'fsnruna_F176.hdr',\n",
       " 'fsnruna_F190.hdr',\n",
       " 'fsnruna_F151.hdr',\n",
       " 'fsnruna_F159.img',\n",
       " 'fsnruna_F180.img',\n",
       " 'fsnruna_F191.hdr',\n",
       " 'fsnruna_F172.hdr',\n",
       " 'fsnruna_F045.img',\n",
       " 'fsnruna_F120.img',\n",
       " 'fsnruna_F107.img',\n",
       " 'fsnruna_F050.img',\n",
       " 'fsnruna_F127.hdr',\n",
       " 'fsnruna_F059.img',\n",
       " 'fsnruna_F040.hdr',\n",
       " 'fsnruna_F157.img',\n",
       " 'fsnruna_F006.img',\n",
       " 'fsnruna_F097.img',\n",
       " 'fsnruna_F032.img',\n",
       " 'fsnruna_F108.img',\n",
       " 'fsnruna_F041.img',\n",
       " 'fsnruna_F205.img',\n",
       " 'fsnruna_F062.img',\n",
       " 'fsnruna_F207.img',\n",
       " 'fsnruna_F196.img',\n",
       " 'fsnruna_F003.hdr',\n",
       " 'fsnruna_F179.img',\n",
       " 'fsnruna_F091.hdr',\n",
       " 'fsnruna_F149.hdr',\n",
       " 'fsnruna_F124.img']"
      ]
     },
     "execution_count": 4,
     "metadata": {},
     "output_type": "execute_result"
    }
   ],
   "source": [
    "os.listdir(subject_path)"
   ]
  },
  {
   "cell_type": "markdown",
   "metadata": {},
   "source": [
    "We can use the python glob function to read in all the images. The \\*.img string reads in all the files that end in '.img'"
   ]
  },
  {
   "cell_type": "code",
   "execution_count": 5,
   "metadata": {},
   "outputs": [],
   "source": [
    "path_to_img = glob.glob(os.path.join(subject_path, '*.img'))\n",
    "path_to_img.sort() # be careful about naming here, sort(1 2 ..10) will do 1 10 2.... 9 etc. since it's a string sort"
   ]
  },
  {
   "cell_type": "code",
   "execution_count": 6,
   "metadata": {},
   "outputs": [
    {
     "data": {
      "text/plain": [
       "214"
      ]
     },
     "execution_count": 6,
     "metadata": {},
     "output_type": "execute_result"
    }
   ],
   "source": [
    "len(path_to_img)"
   ]
  },
  {
   "cell_type": "code",
   "execution_count": 7,
   "metadata": {},
   "outputs": [],
   "source": [
    "img_hdr = nipy.load_image(path_to_img[0])\n",
    "data_img = img_hdr.get_data()"
   ]
  },
  {
   "cell_type": "code",
   "execution_count": 8,
   "metadata": {},
   "outputs": [
    {
     "data": {
      "text/plain": [
       "(40, 48, 34, 1)"
      ]
     },
     "execution_count": 8,
     "metadata": {},
     "output_type": "execute_result"
    }
   ],
   "source": [
    "data_img[:,:,:].shape\n",
    "\n"
   ]
  },
  {
   "cell_type": "code",
   "execution_count": 9,
   "metadata": {},
   "outputs": [
    {
     "data": {
      "text/plain": [
       "<matplotlib.image.AxesImage at 0x7faec9808940>"
      ]
     },
     "execution_count": 9,
     "metadata": {},
     "output_type": "execute_result"
    },
    {
     "data": {
      "image/png": "[encoded data removed]",
      "text/plain": [
       "<Figure size 432x288 with 1 Axes>"
      ]
     },
     "metadata": {},
     "output_type": "display_data"
    }
   ],
   "source": [
    "%matplotlib inline\n",
    "plt.imshow(np.squeeze(data_img[:,:,10]))"
   ]
  },
  {
   "cell_type": "markdown",
   "metadata": {},
   "source": [
    "We can see there are 214 scans for this subject."
   ]
  },
  {
   "cell_type": "code",
   "execution_count": 10,
   "metadata": {},
   "outputs": [
    {
     "name": "stdout",
     "output_type": "stream",
     "text": [
      "214\n"
     ]
    }
   ],
   "source": [
    "def load_all(img_path):\n",
    "    img_hdr = nipy.load_image(img_path)\n",
    "    return img_hdr.get_data()\n",
    "all_scans = list(map(load_all, path_to_img))\n",
    "print(len(all_scans))"
   ]
  },
  {
   "cell_type": "code",
   "execution_count": 11,
   "metadata": {},
   "outputs": [
    {
     "name": "stdout",
     "output_type": "stream",
     "text": [
      "[[[[ 44]\n",
      "   [ 33]\n",
      "   [ 27]\n",
      "   ...\n",
      "   [ 38]\n",
      "   [ 40]\n",
      "   [ 38]]\n",
      "\n",
      "  [[ 56]\n",
      "   [ 49]\n",
      "   [ 50]\n",
      "   ...\n",
      "   [ 49]\n",
      "   [ 57]\n",
      "   [ 56]]\n",
      "\n",
      "  [[ 64]\n",
      "   [ 63]\n",
      "   [ 65]\n",
      "   ...\n",
      "   [ 50]\n",
      "   [ 57]\n",
      "   [ 57]]\n",
      "\n",
      "  ...\n",
      "\n",
      "  [[ 80]\n",
      "   [ 91]\n",
      "   [115]\n",
      "   ...\n",
      "   [  0]\n",
      "   [  0]\n",
      "   [  0]]\n",
      "\n",
      "  [[101]\n",
      "   [115]\n",
      "   [140]\n",
      "   ...\n",
      "   [  0]\n",
      "   [  0]\n",
      "   [  0]]\n",
      "\n",
      "  [[114]\n",
      "   [130]\n",
      "   [140]\n",
      "   ...\n",
      "   [  0]\n",
      "   [  0]\n",
      "   [  0]]]\n",
      "\n",
      "\n",
      " [[[ 50]\n",
      "   [ 38]\n",
      "   [ 34]\n",
      "   ...\n",
      "   [ 56]\n",
      "   [ 57]\n",
      "   [ 51]]\n",
      "\n",
      "  [[ 66]\n",
      "   [ 58]\n",
      "   [ 58]\n",
      "   ...\n",
      "   [ 70]\n",
      "   [ 73]\n",
      "   [ 69]]\n",
      "\n",
      "  [[ 76]\n",
      "   [ 75]\n",
      "   [ 77]\n",
      "   ...\n",
      "   [ 64]\n",
      "   [ 66]\n",
      "   [ 64]]\n",
      "\n",
      "  ...\n",
      "\n",
      "  [[120]\n",
      "   [158]\n",
      "   [211]\n",
      "   ...\n",
      "   [  0]\n",
      "   [  0]\n",
      "   [  0]]\n",
      "\n",
      "  [[162]\n",
      "   [205]\n",
      "   [263]\n",
      "   ...\n",
      "   [  0]\n",
      "   [  0]\n",
      "   [  0]]\n",
      "\n",
      "  [[190]\n",
      "   [224]\n",
      "   [254]\n",
      "   ...\n",
      "   [  0]\n",
      "   [  0]\n",
      "   [  0]]]\n",
      "\n",
      "\n",
      " [[[ 55]\n",
      "   [ 45]\n",
      "   [ 45]\n",
      "   ...\n",
      "   [ 66]\n",
      "   [ 60]\n",
      "   [ 53]]\n",
      "\n",
      "  [[ 78]\n",
      "   [ 69]\n",
      "   [ 66]\n",
      "   ...\n",
      "   [ 87]\n",
      "   [ 82]\n",
      "   [ 73]]\n",
      "\n",
      "  [[ 84]\n",
      "   [ 85]\n",
      "   [ 83]\n",
      "   ...\n",
      "   [ 79]\n",
      "   [ 75]\n",
      "   [ 68]]\n",
      "\n",
      "  ...\n",
      "\n",
      "  [[158]\n",
      "   [216]\n",
      "   [297]\n",
      "   ...\n",
      "   [  0]\n",
      "   [  0]\n",
      "   [  0]]\n",
      "\n",
      "  [[216]\n",
      "   [294]\n",
      "   [391]\n",
      "   ...\n",
      "   [  0]\n",
      "   [  0]\n",
      "   [  0]]\n",
      "\n",
      "  [[241]\n",
      "   [308]\n",
      "   [373]\n",
      "   ...\n",
      "   [  0]\n",
      "   [  0]\n",
      "   [  0]]]\n",
      "\n",
      "\n",
      " ...\n",
      "\n",
      "\n",
      " [[[ 89]\n",
      "   [118]\n",
      "   [154]\n",
      "   ...\n",
      "   [ 60]\n",
      "   [ 50]\n",
      "   [ 47]]\n",
      "\n",
      "  [[ 96]\n",
      "   [124]\n",
      "   [162]\n",
      "   ...\n",
      "   [ 77]\n",
      "   [ 71]\n",
      "   [ 71]]\n",
      "\n",
      "  [[ 76]\n",
      "   [ 98]\n",
      "   [119]\n",
      "   ...\n",
      "   [ 78]\n",
      "   [ 78]\n",
      "   [ 80]]\n",
      "\n",
      "  ...\n",
      "\n",
      "  [[105]\n",
      "   [112]\n",
      "   [138]\n",
      "   ...\n",
      "   [  2]\n",
      "   [  0]\n",
      "   [  0]]\n",
      "\n",
      "  [[ 91]\n",
      "   [ 92]\n",
      "   [113]\n",
      "   ...\n",
      "   [  1]\n",
      "   [  0]\n",
      "   [  0]]\n",
      "\n",
      "  [[ 52]\n",
      "   [ 53]\n",
      "   [ 67]\n",
      "   ...\n",
      "   [  1]\n",
      "   [  0]\n",
      "   [  0]]]\n",
      "\n",
      "\n",
      " [[[ 86]\n",
      "   [ 91]\n",
      "   [ 86]\n",
      "   ...\n",
      "   [ 57]\n",
      "   [ 54]\n",
      "   [ 51]]\n",
      "\n",
      "  [[103]\n",
      "   [108]\n",
      "   [102]\n",
      "   ...\n",
      "   [ 69]\n",
      "   [ 67]\n",
      "   [ 68]]\n",
      "\n",
      "  [[ 95]\n",
      "   [106]\n",
      "   [101]\n",
      "   ...\n",
      "   [ 63]\n",
      "   [ 67]\n",
      "   [ 71]]\n",
      "\n",
      "  ...\n",
      "\n",
      "  [[ 90]\n",
      "   [ 88]\n",
      "   [108]\n",
      "   ...\n",
      "   [  3]\n",
      "   [  0]\n",
      "   [  0]]\n",
      "\n",
      "  [[ 91]\n",
      "   [ 79]\n",
      "   [ 86]\n",
      "   ...\n",
      "   [  3]\n",
      "   [  0]\n",
      "   [  0]]\n",
      "\n",
      "  [[ 57]\n",
      "   [ 47]\n",
      "   [ 48]\n",
      "   ...\n",
      "   [  2]\n",
      "   [  0]\n",
      "   [  0]]]\n",
      "\n",
      "\n",
      " [[[ 75]\n",
      "   [ 69]\n",
      "   [ 52]\n",
      "   ...\n",
      "   [ 34]\n",
      "   [ 36]\n",
      "   [ 36]]\n",
      "\n",
      "  [[ 82]\n",
      "   [ 76]\n",
      "   [ 62]\n",
      "   ...\n",
      "   [ 41]\n",
      "   [ 42]\n",
      "   [ 43]]\n",
      "\n",
      "  [[ 78]\n",
      "   [ 82]\n",
      "   [ 75]\n",
      "   ...\n",
      "   [ 38]\n",
      "   [ 35]\n",
      "   [ 37]]\n",
      "\n",
      "  ...\n",
      "\n",
      "  [[ 61]\n",
      "   [ 59]\n",
      "   [ 73]\n",
      "   ...\n",
      "   [  3]\n",
      "   [  0]\n",
      "   [  0]]\n",
      "\n",
      "  [[ 58]\n",
      "   [ 47]\n",
      "   [ 53]\n",
      "   ...\n",
      "   [  2]\n",
      "   [  0]\n",
      "   [  0]]\n",
      "\n",
      "  [[ 37]\n",
      "   [ 28]\n",
      "   [ 29]\n",
      "   ...\n",
      "   [  0]\n",
      "   [  0]\n",
      "   [  0]]]]\n"
     ]
    }
   ],
   "source": [
    "print(all_scans[0])"
   ]
  },
  {
   "cell_type": "code",
   "execution_count": 12,
   "metadata": {},
   "outputs": [],
   "source": [
    "def flatten_scan(scan):\n",
    "    return np.array(scan).flatten(order = 'F')\n",
    "brain_scans = np.vstack(list(map(flatten_scan, all_scans)))"
   ]
  },
  {
   "cell_type": "code",
   "execution_count": 13,
   "metadata": {},
   "outputs": [
    {
     "data": {
      "text/plain": [
       "(214, 65280)"
      ]
     },
     "execution_count": 13,
     "metadata": {},
     "output_type": "execute_result"
    }
   ],
   "source": [
    "brain_scans.shape"
   ]
  },
  {
   "cell_type": "markdown",
   "metadata": {},
   "source": [
    "## Masking \n",
    "There are infinite ways of creating an image mask. An mask is an image of zeros and ones that denote the areas to be analyzed. We will use a precreated mask for the purpose of this analysis, but we can easily make our own masking function. For example, we can create a mask by thresholding the scans at the global mean. "
   ]
  },
  {
   "cell_type": "code",
   "execution_count": 14,
   "metadata": {},
   "outputs": [
    {
     "name": "stderr",
     "output_type": "stream",
     "text": [
      "/home/rzlim08/.local/lib/python3.5/site-packages/ipykernel_launcher.py:2: DeprecationWarning: Non-string object detected for the array ordering. Please pass in 'C', 'F', 'A', or 'K' instead\n",
      "  \n"
     ]
    },
    {
     "data": {
      "text/plain": [
       "29401"
      ]
     },
     "execution_count": 14,
     "metadata": {},
     "output_type": "execute_result"
    },
    {
     "data": {
      "image/png": "[encoded data removed]",
      "text/plain": [
       "<Figure size 432x288 with 1 Axes>"
      ]
     },
     "metadata": {},
     "output_type": "display_data"
    }
   ],
   "source": [
    "mask = np.sum(brain_scans>np.mean(brain_scans),0)//brain_scans.shape[0]\n",
    "m = mask.reshape((40, 48, 34), order={\"F\"})\n",
    "plt.imshow(np.squeeze(m[:,:,10]))\n",
    "sum(mask)"
   ]
  },
  {
   "cell_type": "markdown",
   "metadata": {},
   "source": [
    "For the purposes of this workshop, we'll use a precreated mask."
   ]
  },
  {
   "cell_type": "code",
   "execution_count": 15,
   "metadata": {},
   "outputs": [],
   "source": [
    "mask = nipy.load_image(os.path.join(data_path, 'mask.img')).get_data()"
   ]
  },
  {
   "cell_type": "markdown",
   "metadata": {},
   "source": [
    "To get our data matrix, we will select only the voxels that we've included in our analysis. We call our data matrix Z. "
   ]
  },
  {
   "cell_type": "code",
   "execution_count": 16,
   "metadata": {},
   "outputs": [
    {
     "data": {
      "text/plain": [
       "(214, 29151)"
      ]
     },
     "execution_count": 16,
     "metadata": {},
     "output_type": "execute_result"
    }
   ],
   "source": [
    "mask = np.array(mask).flatten(order = 'F')\n",
    "\n",
    "Z = brain_scans[:,  np.nonzero(mask)[0]]\n",
    "Z.shape"
   ]
  },
  {
   "cell_type": "markdown",
   "metadata": {},
   "source": [
    "We will want to standardize this matrix. PCA should be mean centered at the very least to return meaningful results. "
   ]
  },
  {
   "cell_type": "code",
   "execution_count": 17,
   "metadata": {},
   "outputs": [],
   "source": [
    "Z = st.zscore(Z)"
   ]
  },
  {
   "cell_type": "markdown",
   "metadata": {},
   "source": [
    "This gives us a standardized data matrix. We will now create a design matrix to represent the timing information"
   ]
  },
  {
   "cell_type": "markdown",
   "metadata": {},
   "source": [
    "## Creating the Design Matrix (G Matrix)\n",
    "\n",
    "Since we want to get the neural responses to the task, we want to constain our analysis to the scans where we expect to see these responses. We create our design matrix by inserting ones into the places where we expect to see signals. This is a similar procedure to that used in SPM's first level analysis. "
   ]
  },
  {
   "cell_type": "code",
   "execution_count": 18,
   "metadata": {},
   "outputs": [],
   "source": [
    "Letters2=[55.269, 79.074, 89.123, 118.569, 123.266, 138.011, 163.450, 179.190, 189.245];\n",
    "Letters4=[5.025, 10.383, 20.765, 69.681, 74.377, 108.515, 132.986, 158.425, 199.293];\n",
    "Letters6=[15.740, 25.789, 40.540, 143.369, 148.727, 168.808, 173.832, 183.887, 194.269];\n",
    "Letters8=[30.486, 35.844, 45.237, 59.960, 64.656, 84.098, 94.481, 113.211, 128.290];\n",
    "onsets = [Letters2, Letters4, Letters6, Letters8]"
   ]
  },
  {
   "cell_type": "code",
   "execution_count": 19,
   "metadata": {},
   "outputs": [],
   "source": [
    "onsets = np.vstack(np.array(onsets))\n",
    "onsets = np.int64(np.ceil(onsets)-1) # remember, Python is 0 indexed"
   ]
  },
  {
   "cell_type": "code",
   "execution_count": 20,
   "metadata": {},
   "outputs": [
    {
     "data": {
      "text/plain": [
       "(214, 32)"
      ]
     },
     "execution_count": 20,
     "metadata": {},
     "output_type": "execute_result"
    }
   ],
   "source": [
    "conditions = onsets.shape[0]\n",
    "bins = 8\n",
    "G = np.zeros((Z.shape[0], bins*conditions));\n",
    "G.shape"
   ]
  },
  {
   "cell_type": "code",
   "execution_count": 21,
   "metadata": {},
   "outputs": [],
   "source": [
    "for j in range(0, conditions):\n",
    "    cond_onsets = onsets[j, :]\n",
    "    for i in range(0, cond_onsets.shape[0]):\n",
    "        for k in range(0,bins):\n",
    "            G[cond_onsets[i]+k, j*bins+k]=1 \n",
    "G.shape\n",
    "G = st.zscore(G)\n"
   ]
  },
  {
   "cell_type": "markdown",
   "metadata": {},
   "source": [
    "## Regression\n",
    "\n",
    "We will then regress the Z matrix onto the G matrix. This will give use the betas for the regression. "
   ]
  },
  {
   "cell_type": "code",
   "execution_count": 22,
   "metadata": {},
   "outputs": [],
   "source": [
    "G = G\n",
    "Z = Z\n",
    "GG = G.T@G\n",
    "C = np.linalg.pinv(GG)@G.T@Z"
   ]
  },
  {
   "cell_type": "markdown",
   "metadata": {},
   "source": [
    "## SVD/PCA\n",
    "Now we can do the singular value decomposition (SVD). SVD is a matrix decomposition technique that will yield equivalent results to PCA. Normally, with multiple participants we'd have to append all the matrices from each participant together, but here we only have a single participant. "
   ]
  },
  {
   "cell_type": "code",
   "execution_count": 23,
   "metadata": {},
   "outputs": [
    {
     "data": {
      "text/plain": [
       "array([ 0.09521415,  0.05015617, -0.10637506, -0.14632599, -0.1486813 ,\n",
       "       -0.23219647, -0.3083787 , -0.27059127,  0.19704358,  0.21781634,\n",
       "        0.16258323,  0.07669186,  0.10482465,  0.09993128,  0.07076341,\n",
       "        0.05029745,  0.10420338,  0.1599304 ,  0.17311438,  0.01497507,\n",
       "       -0.05802753, -0.15644779, -0.26506782, -0.29651945,  0.42408922,\n",
       "        0.51506011,  0.53566521,  0.41531119,  0.31167673,  0.18018954,\n",
       "        0.06871738,  0.04877582])"
      ]
     },
     "execution_count": 23,
     "metadata": {},
     "output_type": "execute_result"
    }
   ],
   "source": [
    "[U, D,  V] = np.linalg.svd(G@C, full_matrices=False)\n",
    "P = (np.linalg.pinv(GG)@G.T@U)*np.sqrt(G.shape[0])\n",
    "P[:, 0]"
   ]
  },
  {
   "cell_type": "code",
   "execution_count": 24,
   "metadata": {},
   "outputs": [
    {
     "data": {
      "text/plain": [
       "[<matplotlib.lines.Line2D at 0x7faec61e8940>]"
      ]
     },
     "execution_count": 24,
     "metadata": {},
     "output_type": "execute_result"
    },
    {
     "data": {
      "image/png": "[encoded data removed]",
      "text/plain": [
       "<Figure size 432x288 with 1 Axes>"
      ]
     },
     "metadata": {},
     "output_type": "display_data"
    }
   ],
   "source": [
    "% matplotlib inline\n",
    "plt.plot(P[0:8, 0])\n",
    "plt.plot(P[8:16, 0])\n",
    "plt.plot(P[16:24, 0])\n",
    "plt.plot(P[24:32, 0])"
   ]
  },
  {
   "cell_type": "code",
   "execution_count": null,
   "metadata": {},
   "outputs": [],
   "source": []
  },
  {
   "cell_type": "code",
   "execution_count": null,
   "metadata": {},
   "outputs": [],
   "source": []
  },
  {
   "cell_type": "code",
   "execution_count": null,
   "metadata": {},
   "outputs": [],
   "source": []
  }
 ],
 "metadata": {
  "kernelspec": {
   "display_name": "Python 3",
   "language": "python",
   "name": "python3"
  },
  "language_info": {
   "codemirror_mode": {
    "name": "ipython",
    "version": 3
   },
   "file_extension": ".py",
   "mimetype": "text/x-python",
   "name": "python",
   "nbconvert_exporter": "python",
   "pygments_lexer": "ipython3",
   "version": "3.5.2"
  }
 },
 "nbformat": 4,
 "nbformat_minor": 2
}
